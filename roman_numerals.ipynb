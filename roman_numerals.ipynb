{
 "cells": [
  {
   "cell_type": "markdown",
   "metadata": {
    "deletable": true,
    "editable": true
   },
   "source": [
    "# Roman numerals"
   ]
  },
  {
   "cell_type": "markdown",
   "metadata": {
    "deletable": true,
    "editable": true
   },
   "source": [
    "## I. Roman numerals to decimals\n",
    "\n",
    "Write a function which receives a Roman numeral written out as a string, and returns an integer representing the decimal form of the input number. "
   ]
  },
  {
   "cell_type": "code",
   "execution_count": 1,
   "metadata": {
    "collapsed": true,
    "deletable": true,
    "editable": true
   },
   "outputs": [],
   "source": [
    "mapping = {\"I\" : 1, \n",
    "           \"V\" : 5,\n",
    "           \"X\" : 10,\n",
    "           \"L\" : 50,\n",
    "           \"C\" : 100,\n",
    "           \"D\" : 500,\n",
    "           \"M\" : 1000}"
   ]
  },
  {
   "cell_type": "code",
   "execution_count": 2,
   "metadata": {
    "collapsed": true,
    "deletable": true,
    "editable": true
   },
   "outputs": [],
   "source": [
    "def roman_to_decimal(rom):\n",
    "    \"\"\"Convert a Roman numeral to decimal.\n",
    "    \n",
    "    Parameters\n",
    "    ----------\n",
    "    rom : str\n",
    "        A Roman numeral representing a positive integer.\n",
    "        \n",
    "    Returns\n",
    "    -------\n",
    "    dec : int\n",
    "        The result of conversion of `rom` into a decimal system.\n",
    "    \"\"\"\n",
    "    dec = 0\n",
    "    romSize = len(rom)\n",
    "    if romSize > 0:\n",
    "        i = 0\n",
    "        while i < romSize:\n",
    "            if i == romSize - 1:\n",
    "                dec += mapping[rom[i]]\n",
    "                i += 1\n",
    "            else:\n",
    "                a = mapping[rom[i]]\n",
    "                i = i + 1\n",
    "                b = mapping[rom[i]]\n",
    "                if a < b:\n",
    "                    dec -= a\n",
    "                else:\n",
    "                    dec += a\n",
    "  \n",
    "    return dec"
   ]
  },
  {
   "cell_type": "markdown",
   "metadata": {
    "deletable": true,
    "editable": true
   },
   "source": [
    "Here are some tests for you to test your code. Your code must pass all of them. You also need to come up with several more tests (your choice)."
   ]
  },
  {
   "cell_type": "code",
   "execution_count": 3,
   "metadata": {
    "collapsed": false,
    "deletable": true,
    "editable": true
   },
   "outputs": [
    {
     "name": "stdout",
     "output_type": "stream",
     "text": [
      "True\n",
      "True\n",
      "True\n",
      "True\n",
      "True\n"
     ]
    }
   ],
   "source": [
    "test_pairs = [(\"IX\", 9), (\"XI\", 11), (\"MCCII\", 1202), (\"MMXVIII\", 2018), (\"XLIX\", 49)]\n",
    "\n",
    "for rom, dec in test_pairs:\n",
    "    converted = roman_to_decimal(rom)\n",
    "    print(converted == dec)"
   ]
  },
  {
   "cell_type": "markdown",
   "metadata": {
    "deletable": true,
    "editable": true
   },
   "source": [
    "## II. Decimal numbers to roman numerals.\n",
    "\n",
    "The maximum grade for first task (Roman to decimal) is 7 on the 10-point HSE scale. For extra credit, complete the second task: *given a decimal number, convert it to the Roman form*."
   ]
  },
  {
   "cell_type": "code",
   "execution_count": 72,
   "metadata": {
    "collapsed": true,
    "deletable": true,
    "editable": true
   },
   "outputs": [],
   "source": [
    "def M (dec):\n",
    "    rom = \"\"\n",
    "    i = 0\n",
    "    while (i < dec):\n",
    "        rom += \"M\"\n",
    "        i = i + 1\n",
    "    return rom"
   ]
  },
  {
   "cell_type": "code",
   "execution_count": 73,
   "metadata": {
    "collapsed": false,
    "deletable": true,
    "editable": true
   },
   "outputs": [],
   "source": [
    "def D (dec):\n",
    "    rom = \"\"\n",
    "    if (dec == 4):\n",
    "        return \"CM\"\n",
    "    elif (dec > 0):\n",
    "        return \"D\"\n",
    "    else:\n",
    "        return \"\""
   ]
  },
  {
   "cell_type": "code",
   "execution_count": 74,
   "metadata": {
    "collapsed": true,
    "deletable": true,
    "editable": true
   },
   "outputs": [],
   "source": [
    "def C (dec):\n",
    "    if (dec == 4):\n",
    "        return \"CD\"\n",
    "    elif (dec != 0) and (dec < 4):\n",
    "        rom = \"\"\n",
    "        i = 0\n",
    "        while (i < dec):\n",
    "            rom += \"C\"\n",
    "            i = i + 1\n",
    "        return rom\n",
    "    else:\n",
    "        return \"\"\n"
   ]
  },
  {
   "cell_type": "code",
   "execution_count": 75,
   "metadata": {
    "collapsed": true,
    "deletable": true,
    "editable": true
   },
   "outputs": [],
   "source": [
    "def L (dec):\n",
    "    if (dec == 4):\n",
    "        return \"XC\"\n",
    "    elif (dec > 0):\n",
    "        return \"L\"\n",
    "    else:\n",
    "        return \"\""
   ]
  },
  {
   "cell_type": "code",
   "execution_count": 76,
   "metadata": {
    "collapsed": true,
    "deletable": true,
    "editable": true
   },
   "outputs": [],
   "source": [
    "def X (dec):\n",
    "    if (dec == 4):\n",
    "        return \"XL\"\n",
    "    elif ((dec != 0) and (dec < 4)):\n",
    "        rom = \"\"\n",
    "        i = 0\n",
    "        while (i < dec):\n",
    "            rom += \"X\"\n",
    "            i = i + 1\n",
    "        return rom\n",
    "    else:\n",
    "        return \"\""
   ]
  },
  {
   "cell_type": "code",
   "execution_count": 77,
   "metadata": {
    "collapsed": true,
    "deletable": true,
    "editable": true
   },
   "outputs": [],
   "source": [
    "def basic_digits (dec):\n",
    "    mapping = {1 : \"I\",\n",
    "               2 : \"II\",\n",
    "               3 : \"III\",\n",
    "               4 : \"IV\",\n",
    "               5 : \"V\",\n",
    "               6 : \"VI\",\n",
    "               7 : \"VII\",\n",
    "               8 : \"VIII\",\n",
    "               9 : \"IX\"\n",
    "              }\n",
    "    return mapping[dec]\n"
   ]
  },
  {
   "cell_type": "code",
   "execution_count": 78,
   "metadata": {
    "collapsed": true,
    "deletable": true,
    "editable": true
   },
   "outputs": [],
   "source": [
    "def decimal_to_roman(dec):\n",
    "    \"\"\"Convert a decimal to the Roman form.\n",
    "    \n",
    "    Parameters\n",
    "    ----------\n",
    "    dec : int\n",
    "        A positive integer number\n",
    "    \n",
    "    Returns\n",
    "    -------\n",
    "    rom : str\n",
    "        A string representation of a Roman numeral form of `dec`.\n",
    "    \"\"\"\n",
    "    \n",
    "    rom = \"\"\n",
    "    \n",
    "    m1 = int(dec / 1000)\n",
    "    rom += M(m1)\n",
    "    m2 = dec % 1000\n",
    "    \n",
    "    d1 = int(m2 / 500)\n",
    "    rom += D(d1)\n",
    "    d2 = m2 % 500\n",
    "    \n",
    "    \n",
    "    c1 = int(d2 / 100)\n",
    "    rom += C(c1)\n",
    "    c2 = d2 % 100\n",
    "    \n",
    "    \n",
    "    k1 = int(c2 / 50)\n",
    "    rom += L(k1)\n",
    "    k2 = c2 % 50\n",
    "    \n",
    "    \n",
    "    x1 = int(k2 / 10)\n",
    "    rom += X(x1)\n",
    "    x2 = k2 % 10\n",
    "    \n",
    "    \n",
    "    rom += basic_digits(x2)\n",
    "    \n",
    "    \n",
    "    return rom"
   ]
  },
  {
   "cell_type": "markdown",
   "metadata": {
    "deletable": true,
    "editable": true
   },
   "source": [
    "You need to come up with test cases to show that your conversion works as expected. \n",
    "NB: the conversion is ambiguous in some cases. Any valid conversion is accepted. "
   ]
  },
  {
   "cell_type": "code",
   "execution_count": 79,
   "metadata": {
    "collapsed": false,
    "deletable": true,
    "editable": true
   },
   "outputs": [
    {
     "name": "stdout",
     "output_type": "stream",
     "text": [
      "True\n",
      "True\n",
      "True\n",
      "True\n",
      "True\n"
     ]
    }
   ],
   "source": [
    "test_pairs = [(9, \"IX\"), (11, \"XI\"), (1202, \"MCCII\"), (2018, \"MMXVIII\"), (49, \"XLIX\")]\n",
    "\n",
    "for dec, rom in test_pairs:\n",
    "    converted = decimal_to_roman(dec)\n",
    "    print(converted == rom)"
   ]
  },
  {
   "cell_type": "code",
   "execution_count": null,
   "metadata": {
    "collapsed": true,
    "deletable": true,
    "editable": true
   },
   "outputs": [],
   "source": []
  },
  {
   "cell_type": "code",
   "execution_count": null,
   "metadata": {
    "collapsed": true
   },
   "outputs": [],
   "source": []
  }
 ],
 "metadata": {
  "kernelspec": {
   "display_name": "Python 3",
   "language": "python",
   "name": "python3"
  },
  "language_info": {
   "codemirror_mode": {
    "name": "ipython",
    "version": 3
   },
   "file_extension": ".py",
   "mimetype": "text/x-python",
   "name": "python",
   "nbconvert_exporter": "python",
   "pygments_lexer": "ipython3",
   "version": "3.5.2"
  }
 },
 "nbformat": 4,
 "nbformat_minor": 2
}
